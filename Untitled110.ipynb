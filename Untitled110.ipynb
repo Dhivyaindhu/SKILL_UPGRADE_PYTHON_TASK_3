{
  "nbformat": 4,
  "nbformat_minor": 0,
  "metadata": {
    "colab": {
      "provenance": [],
      "authorship_tag": "ABX9TyPwHD1vtzpf+5Zvj2mkpnp+",
      "include_colab_link": true
    },
    "kernelspec": {
      "name": "python3",
      "display_name": "Python 3"
    },
    "language_info": {
      "name": "python"
    }
  },
  "cells": [
    {
      "cell_type": "markdown",
      "metadata": {
        "id": "view-in-github",
        "colab_type": "text"
      },
      "source": [
        "<a href=\"https://colab.research.google.com/github/Dhivyaindhu/SKILL_UPGRADE_PYTHON_TASK_3/blob/main/Untitled110.ipynb\" target=\"_parent\"><img src=\"https://colab.research.google.com/assets/colab-badge.svg\" alt=\"Open In Colab\"/></a>"
      ]
    },
    {
      "cell_type": "code",
      "execution_count": 2,
      "metadata": {
        "colab": {
          "base_uri": "https://localhost:8080/"
        },
        "id": "I3bpT4HntgVl",
        "outputId": "e2f09b62-3146-4e48-c4e5-296528b01f49"
      },
      "outputs": [
        {
          "output_type": "stream",
          "name": "stdout",
          "text": [
            "Welcome to the Number Guessing Game!\n",
            "I have chosen a number between 1 and 100. Try to guess it!\n",
            "Enter your guess: 45\n",
            " high! Try again.\n",
            "Enter your guess: 35\n",
            " high! Try again.\n",
            "Enter your guess: 25\n",
            "Congratulations! You guessed the correct number 25 in 3 attempts.\n"
          ]
        }
      ],
      "source": [
        "import random\n",
        "\n",
        "def number_guessing_game():\n",
        "    # Generate a random number between 1 and 100\n",
        "    target_number = random.randint(1, 100)\n",
        "    guess = None  # Initialize the guess variable\n",
        "    attempts = 0  # Counter for the number of attempts\n",
        "\n",
        "    print(\"Welcome to the Number Guessing Game!\")\n",
        "    print(\"I have chosen a number between 1 and 100. Try to guess it!\")\n",
        "\n",
        "    # Loop until the user guesses the correct number\n",
        "    while guess != target_number:\n",
        "        try:\n",
        "            # Take input from the user\n",
        "            guess = int(input(\"Enter your guess: \"))\n",
        "            attempts += 1  # Increment the attempts counter\n",
        "\n",
        "            if guess < target_number:\n",
        "                print(\" low! Try again.\")\n",
        "            elif guess > target_number:\n",
        "                print(\" high! Try again.\")\n",
        "            else:\n",
        "                print(f\"Congratulations! You guessed the correct number {target_number} in {attempts} attempts.\")\n",
        "        except ValueError:\n",
        "            print(\"Invalid input! Please enter a valid integer.\")\n",
        "\n",
        "if __name__ == \"__main__\":\n",
        "    number_guessing_game()\n"
      ]
    }
  ]
}